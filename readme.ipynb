{
 "cells": [
  {
   "cell_type": "markdown",
   "metadata": {},
   "source": [
    "Import the notebooks you desire to test in `test_.py`."
   ]
  },
  {
   "cell_type": "code",
   "execution_count": null,
   "metadata": {},
   "outputs": [],
   "source": [
    "%%file test_.py\n",
    "__import__('importnb').load_ipython_extension()\n",
    "from a_test_notebook import *"
   ]
  },
  {
   "cell_type": "markdown",
   "metadata": {},
   "source": [
    "> `test_.py` is the most minimal name to trigger tests."
   ]
  },
  {
   "cell_type": "markdown",
   "metadata": {},
   "source": [
    "Import pytest plugins for hypothesis, coverage, and benchmarking."
   ]
  },
  {
   "cell_type": "code",
   "execution_count": 5,
   "metadata": {},
   "outputs": [
    {
     "name": "stdout",
     "output_type": "stream",
     "text": [
      "Overwriting requirements.txt\n"
     ]
    }
   ],
   "source": [
    "%%file requirements.txt\n",
    "importnb\n",
    "pytest\n",
    "hypothesis\n",
    "pytest-cov\n",
    "pytest-benchmark"
   ]
  },
  {
   "cell_type": "markdown",
   "metadata": {},
   "source": [
    "We can even create test fixtures in a notebook and load them into `conftest.py`"
   ]
  },
  {
   "cell_type": "code",
   "execution_count": 6,
   "metadata": {},
   "outputs": [
    {
     "name": "stdout",
     "output_type": "stream",
     "text": [
      "Overwriting conftest.py\n"
     ]
    }
   ],
   "source": [
    "%%file conftest.py\n",
    "__import__('importnb').load_ipython_extension()\n",
    "from fixtures import *"
   ]
  },
  {
   "cell_type": "code",
   "execution_count": null,
   "metadata": {},
   "outputs": [],
   "source": [
    "!python -m pytest --cov"
   ]
  },
  {
   "cell_type": "code",
   "execution_count": 4,
   "metadata": {},
   "outputs": [
    {
     "name": "stdout",
     "output_type": "stream",
     "text": [
      "\u001b]0;IPython: tonyfast/_test\u0007\u001b[1m============================= test session starts ==============================\u001b[0m\n",
      "platform darwin -- Python 3.6.3, pytest-3.5.1, py-1.5.3, pluggy-0.6.0\n",
      "benchmark: 3.1.1 (defaults: timer=time.perf_counter disable_gc=False min_rounds=5 min_time=0.000005 max_time=1.0 calibration_precision=10 warmup=False warmup_iterations=100000)\n",
      "rootdir: /Users/tonyfast/_test, inifile:\n",
      "plugins: cov-2.5.1, benchmark-3.1.1, hypothesis-3.56.5\n",
      "collected 3 items                                                              \u001b[0m\n",
      "\n",
      "test_.py ...\u001b[36m                                                             [100%]\u001b[0m\n",
      "\n",
      "---------- coverage: platform darwin, python 3.6.3-final-0 -----------\n",
      "Name                                                    Stmts   Miss  Cover\n",
      "---------------------------------------------------------------------------\n",
      "a_test_notebook.ipynb                                       1      0   100%\n",
      "conftest.py                                                 2      0   100%\n",
      "fixtures.ipynb                                              1      0   100%\n",
      "test_.py                                                    2      0   100%\n",
      "/Users/tonyfast/importnb/importnb/__init__.py               1      0   100%\n",
      "/Users/tonyfast/importnb/importnb/compiler_ipython.py      29      8    72%\n",
      "/Users/tonyfast/importnb/importnb/decoder.py               20      4    80%\n",
      "/Users/tonyfast/importnb/importnb/exporter.py              55     20    64%\n",
      "/Users/tonyfast/importnb/importnb/loader.py                76     26    66%\n",
      "---------------------------------------------------------------------------\n",
      "TOTAL                                                     187     58    69%\n",
      "\n",
      "\n",
      "\n",
      "\u001b[33m----------------------------------------------- benchmark: 1 tests -----------------------------------------------\u001b[0m\n",
      "Name (time in ms)          Min       Max      Mean  StdDev    Median     IQR  Outliers     OPS  Rounds  Iterations\n",
      "\u001b[33m------------------------------------------------------------------------------------------------------------------\u001b[0m\n",
      "test_sleep          \u001b[1m  200.2135\u001b[0m\u001b[1m  205.1707\u001b[0m\u001b[1m  204.0720\u001b[0m\u001b[1m  2.1671\u001b[0m\u001b[1m  205.1325\u001b[0m\u001b[1m  1.6092\u001b[0m       1;1\u001b[1m  4.9002\u001b[0m       5           1\n",
      "\u001b[33m------------------------------------------------------------------------------------------------------------------\u001b[0m\n",
      "\n",
      "Legend:\n",
      "  Outliers: 1 Standard Deviation from Mean; 1.5 IQR (InterQuartile Range) from 1st Quartile and 3rd Quartile.\n",
      "  OPS: Operations Per Second, computed as 1 / Mean\n",
      "\u001b[32m\u001b[1m=========================== 3 passed in 2.66 seconds ===========================\u001b[0m\n"
     ]
    }
   ],
   "source": [
    "!ipython -m pytest -- --cov"
   ]
  }
 ],
 "metadata": {
  "kernelspec": {
   "display_name": "p6",
   "language": "python",
   "name": "other-env"
  },
  "language_info": {
   "codemirror_mode": {
    "name": "ipython",
    "version": 3
   },
   "file_extension": ".py",
   "mimetype": "text/x-python",
   "name": "python",
   "nbconvert_exporter": "python",
   "pygments_lexer": "ipython3",
   "version": "3.6.3"
  }
 },
 "nbformat": 4,
 "nbformat_minor": 2
}
