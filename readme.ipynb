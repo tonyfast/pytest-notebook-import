{
 "cells": [
  {
   "cell_type": "markdown",
   "metadata": {},
   "source": [
    "[![Binder](https://mybinder.org/badge.svg)](https://mybinder.org/v2/gh/tonyfast/pytest-notebook-import/master?urlpath=lab/tree/readme.ipynb)"
   ]
  },
  {
   "cell_type": "markdown",
   "metadata": {},
   "source": [
    "Import pytest plugins for hypothesis, coverage, and benchmarking."
   ]
  },
  {
   "cell_type": "code",
   "execution_count": null,
   "metadata": {},
   "outputs": [],
   "source": [
    "%%file requirements.txt\n",
    "importnb\n",
    "pytest\n",
    "hypothesis\n",
    "pytest-cov\n",
    "pytest-benchmark"
   ]
  },
  {
   "cell_type": "markdown",
   "metadata": {},
   "source": [
    "We can even create test fixtures in a notebook and load them into `conftest.py`"
   ]
  },
  {
   "cell_type": "code",
   "execution_count": null,
   "metadata": {},
   "outputs": [],
   "source": [
    "%%file test_py.py\n",
    "def test_py(): assert True"
   ]
  },
  {
   "cell_type": "code",
   "execution_count": null,
   "metadata": {},
   "outputs": [],
   "source": [
    "%%file pytest.ini\n",
    "[pytest]\n",
    "python_files=test_*.['ipynb', 'py']"
   ]
  },
  {
   "cell_type": "code",
   "execution_count": null,
   "metadata": {},
   "outputs": [],
   "source": [
    "%%file conftest.py\n",
    "\n",
    "import pytest\n",
    "from importnb import Notebook\n",
    "\n",
    "with Notebook(): from fixtures import *\n",
    "\n",
    "def pytest_collect_file(parent, path):\n",
    "    if path.ext in (\".ipynb\", \".py\"): return Module(path, parent)\n",
    "    \n",
    "class Module(pytest.Module):\n",
    "    def collect(self):\n",
    "        with Notebook(): return super().collect()"
   ]
  },
  {
   "cell_type": "code",
   "execution_count": 5,
   "metadata": {},
   "outputs": [
    {
     "name": "stdout",
     "output_type": "stream",
     "text": [
      "=========================== test session starts ============================\n",
      "platform darwin -- Python 3.6.3, pytest-3.5.1, py-1.5.3, pluggy-0.6.0\n",
      "benchmark: 3.1.1 (defaults: timer=time.perf_counter disable_gc=False min_rounds=5 min_time=0.000005 max_time=1.0 calibration_precision=10 warmup=False warmup_iterations=100000)\n",
      "rootdir: /Users/tonyfast/_test, inifile: pytest.ini\n",
      "plugins: cov-2.5.1, benchmark-3.1.1, hypothesis-3.56.5\n",
      "collected 4 items\n",
      "\n",
      "test_notebook.ipynb ...                                              [ 75%]\n",
      "test_py.py .                                                         [100%]\n",
      "\n",
      "\n",
      "----------------------------------------------- benchmark: 1 tests -----------------------------------------------\n",
      "Name (time in ms)          Min       Max      Mean  StdDev    Median     IQR  Outliers     OPS  Rounds  Iterations\n",
      "------------------------------------------------------------------------------------------------------------------\n",
      "test_sleep            200.4135  204.6519  201.6918  1.8433  200.5754  2.4781       1;0  4.9581       5           1\n",
      "------------------------------------------------------------------------------------------------------------------\n",
      "\n",
      "Legend:\n",
      "  Outliers: 1 Standard Deviation from Mean; 1.5 IQR (InterQuartile Range) from 1st Quartile and 3rd Quartile.\n",
      "  OPS: Operations Per Second, computed as 1 / Mean\n",
      "========================= 4 passed in 2.79 seconds =========================\n",
      "[NbConvertApp] Converting notebook readme.ipynb to markdown\n",
      "[NbConvertApp] Writing 2718 bytes to readme.md\n"
     ]
    }
   ],
   "source": [
    "if __name__ == '__main__':\n",
    "    __import__('pytest').main(args=[])\n",
    "    !jupyter nbconvert --to markdown readme.ipynb"
   ]
  },
  {
   "cell_type": "code",
   "execution_count": null,
   "metadata": {},
   "outputs": [],
   "source": []
  },
  {
   "cell_type": "code",
   "execution_count": null,
   "metadata": {},
   "outputs": [],
   "source": []
  }
 ],
 "metadata": {
  "kernelspec": {
   "display_name": "p6",
   "language": "python",
   "name": "other-env"
  },
  "language_info": {
   "codemirror_mode": {
    "name": "ipython",
    "version": 3
   },
   "file_extension": ".py",
   "mimetype": "text/x-python",
   "name": "python",
   "nbconvert_exporter": "python",
   "pygments_lexer": "ipython3",
   "version": "3.6.3"
  }
 },
 "nbformat": 4,
 "nbformat_minor": 2
}
