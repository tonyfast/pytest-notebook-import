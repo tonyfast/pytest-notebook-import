{
 "cells": [
  {
   "cell_type": "code",
   "execution_count": 1,
   "metadata": {},
   "outputs": [
    {
     "name": "stdout",
     "output_type": "stream",
     "text": [
      "Overwriting test_.py\n"
     ]
    }
   ],
   "source": [
    "%%file test_.py\n",
    "__import__('importnb').load_ipython_extension()\n",
    "from a_test_notebook import *"
   ]
  },
  {
   "cell_type": "code",
   "execution_count": 6,
   "metadata": {},
   "outputs": [
    {
     "name": "stdout",
     "output_type": "stream",
     "text": [
      "Overwriting requirements.txt\n"
     ]
    }
   ],
   "source": [
    "%%file requirements.txt\n",
    "hypothesis\n",
    "pytest-cov"
   ]
  },
  {
   "cell_type": "code",
   "execution_count": 2,
   "metadata": {},
   "outputs": [
    {
     "name": "stdout",
     "output_type": "stream",
     "text": [
      "Overwriting conftest.py\n"
     ]
    }
   ],
   "source": [
    "%%file conftest.py\n",
    "__import__('importnb').load_ipython_extension()\n",
    "from fixtures import *"
   ]
  },
  {
   "cell_type": "code",
   "execution_count": 3,
   "metadata": {},
   "outputs": [
    {
     "name": "stdout",
     "output_type": "stream",
     "text": [
      "\u001b]0;IPython: tonyfast/_test\u0007\u001b[1m============================= test session starts ==============================\u001b[0m\n",
      "platform darwin -- Python 3.6.3, pytest-3.5.1, py-1.5.3, pluggy-0.6.0\n",
      "rootdir: /Users/tonyfast/_test, inifile:\n",
      "plugins: cov-2.5.1, hypothesis-3.56.5\n",
      "collected 2 items                                                              \u001b[0m\n",
      "\n",
      "test_.py ..\u001b[36m                                                              [100%]\u001b[0m\n",
      "\n",
      "---------- coverage: platform darwin, python 3.6.3-final-0 -----------\n",
      "Name                                                    Stmts   Miss  Cover\n",
      "---------------------------------------------------------------------------\n",
      "a_test_notebook.ipynb                                       1      0   100%\n",
      "conftest.py                                                 2      0   100%\n",
      "fixtures.ipynb                                              1      0   100%\n",
      "test_.py                                                    2      0   100%\n",
      "/Users/tonyfast/importnb/importnb/__init__.py               1      0   100%\n",
      "/Users/tonyfast/importnb/importnb/compiler_ipython.py      29     16    45%\n",
      "/Users/tonyfast/importnb/importnb/decoder.py               20     15    25%\n",
      "/Users/tonyfast/importnb/importnb/exporter.py              55     25    55%\n",
      "/Users/tonyfast/importnb/importnb/loader.py                76     28    63%\n",
      "---------------------------------------------------------------------------\n",
      "TOTAL                                                     187     84    55%\n",
      "\n",
      "\n",
      "\u001b[32m\u001b[1m=========================== 2 passed in 0.21 seconds ===========================\u001b[0m\n"
     ]
    }
   ],
   "source": [
    "!source activate p6 && ipython -m pytest -- --cov"
   ]
  }
 ],
 "metadata": {
  "kernelspec": {
   "display_name": "p6",
   "language": "python",
   "name": "other-env"
  },
  "language_info": {
   "codemirror_mode": {
    "name": "ipython",
    "version": 3
   },
   "file_extension": ".py",
   "mimetype": "text/x-python",
   "name": "python",
   "nbconvert_exporter": "python",
   "pygments_lexer": "ipython3",
   "version": "3.6.3"
  }
 },
 "nbformat": 4,
 "nbformat_minor": 2
}
